{
 "cells": [
  {
   "cell_type": "code",
   "execution_count": 5,
   "id": "sporting-metropolitan",
   "metadata": {},
   "outputs": [
    {
     "name": "stdout",
     "output_type": "stream",
     "text": [
      "Conexión establecida\n",
      "('Daniel', 21000)\n",
      "('Pablo', 18000)\n",
      "('Karen', 18000)\n",
      "('Fernanda', 18000)\n",
      "('Luis', 12000)\n",
      "('Andrea', 12000)\n"
     ]
    }
   ],
   "source": [
    "import sqlite3\n",
    "from sqlite3 import Error\n",
    "\n",
    "def conectar():\n",
    "    try: \n",
    "        conexion = sqlite3.connect('database2.db')\n",
    "        conexion.execute('PRAGMA foreing_keys = ON')\n",
    "        print('Conexión establecida')\n",
    "        return conexion\n",
    "    except Error:\n",
    "        print(Error)\n",
    "        \n",
    "        \n",
    "def tabla(conexion):\n",
    "    conexion.execute(\"CREATE TABLE empresa (id integer PRIMARY KEY, nombre text not null, edad integer not null, estudios text not null, salario integer)\")\n",
    "    conexion.execute(\"INSERT INTO empresa (id, nombre, edad, estudios, salario) VALUES ('10','Andrea','25','profesional','12000')\")\n",
    "    conexion.execute(\"INSERT INTO empresa (id, nombre, edad, estudios, salario) VALUES ('11','Pablo','31','maestria','18000')\")\n",
    "    conexion.execute(\"INSERT INTO empresa (id, nombre, edad, estudios, salario) VALUES ('12','Daniel','30','doctorado','21000')\")\n",
    "    conexion.execute(\"INSERT INTO empresa (id, nombre, edad, estudios, salario) VALUES ('13','Fernanda','27','maestria','18000')\")\n",
    "    conexion.execute(\"INSERT INTO empresa (id, nombre, edad, estudios, salario) VALUES ('14','Luis','23','profesional','12000')\")\n",
    "    conexion.execute(\"INSERT INTO empresa (id, nombre, edad, estudios, salario) VALUES ('15','Karen','26','maestria','18000')\")\n",
    "    conexion.commit()\n",
    "    \n",
    "def consultas(conexion):\n",
    "    cursor = conexion.cursor()\n",
    "    consulta1 = \"SELECT nombre, SUM(salario) FROM empresa GROUP BY nombre\"\n",
    "    consulta2 = \"SELECT nombre, SUM(salario) FROM empresa GROUP BY nombre ORDER BY salario DESC\"\n",
    "    \n",
    "    cursor.execute(consulta2)\n",
    "    filas = cursor.fetchall()\n",
    "    \n",
    "    for fila in filas:\n",
    "        print(fila)\n",
    "        \n",
    "con = conectar()\n",
    "tabla(con)\n",
    "consultas(con)\n",
    "con.close()"
   ]
  }
 ],
 "metadata": {
  "kernelspec": {
   "display_name": "Python 3",
   "language": "python",
   "name": "python3"
  },
  "language_info": {
   "codemirror_mode": {
    "name": "ipython",
    "version": 3
   },
   "file_extension": ".py",
   "mimetype": "text/x-python",
   "name": "python",
   "nbconvert_exporter": "python",
   "pygments_lexer": "ipython3",
   "version": "3.8.5"
  }
 },
 "nbformat": 4,
 "nbformat_minor": 5
}
