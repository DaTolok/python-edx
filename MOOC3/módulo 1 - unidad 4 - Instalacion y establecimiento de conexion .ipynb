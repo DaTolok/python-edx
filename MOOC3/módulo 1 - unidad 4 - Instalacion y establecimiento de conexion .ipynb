{
 "cells": [
  {
   "cell_type": "code",
   "execution_count": 1,
   "id": "aerial-despite",
   "metadata": {},
   "outputs": [
    {
     "name": "stdout",
     "output_type": "stream",
     "text": [
      "C:\\Users\\MARIO MORALES\\OneDrive - Universidad Politécnica de Yucatán\\Datalok\\MOOC 3\\Modulo Unidad 1 y 2\\Modulo 1\n",
      "C:\\Users\\MARIO MORALES\\Desktop\\Bases de datos\n"
     ]
    }
   ],
   "source": [
    "# Importación de las librerías\n",
    "import os\n",
    "import sqlite3\n",
    "\n",
    "\n",
    "# Se identifica el directorio de trabajo actial\n",
    "print(os.getcwd())\n",
    "\n",
    "# Se cambia el directorio de trabajo a una carpeta específica\n",
    "os.chdir(r'C:\\Users\\MARIO MORALES\\Desktop\\Bases de datos')\n",
    "\n",
    "# Se comprueba que se haya cambiado el directorio de trabajo\n",
    "print(os.getcwd())\n",
    "\n",
    "# Se establece una conexión con la base de datos \"Peliculas.db\"\n",
    "sqlite3.connect('Peliculas.db')\n",
    "\n",
    "# Se guardan los datos de conexión en una variable llamada \"conexion\"\n",
    "conexion = sqlite3.connect('Peliculas.db')"
   ]
  }
 ],
 "metadata": {
  "kernelspec": {
   "display_name": "Python 3",
   "language": "python",
   "name": "python3"
  },
  "language_info": {
   "codemirror_mode": {
    "name": "ipython",
    "version": 3
   },
   "file_extension": ".py",
   "mimetype": "text/x-python",
   "name": "python",
   "nbconvert_exporter": "python",
   "pygments_lexer": "ipython3",
   "version": "3.8.5"
  }
 },
 "nbformat": 4,
 "nbformat_minor": 5
}
