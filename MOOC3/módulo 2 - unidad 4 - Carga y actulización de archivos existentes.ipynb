{
 "cells": [
  {
   "cell_type": "code",
   "execution_count": 5,
   "id": "sporting-metropolitan",
   "metadata": {},
   "outputs": [
    {
     "name": "stdout",
     "output_type": "stream",
     "text": [
      "(22, 'Greece', 'Developed', 'Member', 'Euro', 43.0, 42.0, -1.7, 42.5)\n",
      "(32, 'Japan', 'Developed', 'Not Member', 'National Currency', 40.0, 49.5, 0.8, 64.7)\n",
      "(2, 'Argentina', 'Developing', 'Not Member', 'National Currency', 35.7, 37.2, 26.5, 47.3)\n"
     ]
    }
   ],
   "source": [
    "import pandas as pd\n",
    "import sqlite3\n",
    "\n",
    "salida = pd.read_csv('Women-DB.csv', sep=';')\n",
    "\n",
    "#print(salida)\n",
    "\n",
    "con = sqlite3.connect('Womens-Inter.db')\n",
    "salida.to_sql('class',con, if_exists='replace', index = False)\n",
    "cursor = con.cursor()\n",
    "\n",
    "consulta = \"SELECT * FROM class\"\n",
    "\n",
    "salida = pd.read_sql(consulta, con)\n",
    "#print(salida.columns)\n",
    "\n",
    "\n",
    "consulta1 = \"SELECT * FROM CLASS WHERE Country in ('Japan','Greece','Argentina')\"\n",
    "\n",
    "cursor.execute(consulta1)\n",
    "\n",
    "filas = cursor.fetchall()\n",
    "\n",
    "for fila in filas:\n",
    "    print(fila)\n",
    "    \n",
    "\n"
   ]
  },
  {
   "cell_type": "code",
   "execution_count": null,
   "id": "organic-affiliation",
   "metadata": {},
   "outputs": [],
   "source": []
  }
 ],
 "metadata": {
  "kernelspec": {
   "display_name": "Python 3",
   "language": "python",
   "name": "python3"
  },
  "language_info": {
   "codemirror_mode": {
    "name": "ipython",
    "version": 3
   },
   "file_extension": ".py",
   "mimetype": "text/x-python",
   "name": "python",
   "nbconvert_exporter": "python",
   "pygments_lexer": "ipython3",
   "version": "3.8.5"
  }
 },
 "nbformat": 4,
 "nbformat_minor": 5
}
