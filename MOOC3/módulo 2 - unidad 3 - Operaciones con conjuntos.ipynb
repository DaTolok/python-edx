{
 "cells": [
  {
   "cell_type": "code",
   "execution_count": 11,
   "id": "sporting-metropolitan",
   "metadata": {},
   "outputs": [
    {
     "name": "stdout",
     "output_type": "stream",
     "text": [
      "Conexión establecida\n",
      "(1,)\n",
      "(2,)\n"
     ]
    }
   ],
   "source": [
    "import sqlite3\n",
    "from sqlite3 import Error\n",
    "\n",
    "def conectar():\n",
    "    try: \n",
    "        conexion = sqlite3.connect('mydatabase.db')\n",
    "        conexion.execute('PRAGMA foreing_keys = ON')\n",
    "        print('Conexión establecida')\n",
    "        return conexion\n",
    "    except Error:\n",
    "        print(Error)\n",
    "        \n",
    "def crearTabla(conexion):\n",
    "    conexion.execute('CREATE TABLE estudiante( matricula integer PRIMARY KEY, nombre text not null, apellidos text not null, fechaInicio text not null, promedio real)')\n",
    "    conexion.execute('CREATE TABLE carrera (id integer PRIMARY KEY, nombre text not null, estudiante int)')\n",
    "    conexion.execute('CREATE TABLE datosContacto(id integer PRIMARY KEY, estudiante integer, telefono1 text, telefono2 text, correo text, CONSTRAINT fk_contactoEstudiante FOREIGN KEY(estudiante) REFERENCES estudiante (matricula))')\n",
    "    \n",
    "    \n",
    "def modificarTabla(conexion):\n",
    "    conexion.execute('''ALTER TABLE estudiante ADD COLUMN carrera text not null''')\n",
    "    conexion.execute('''ALTER TABLE estudiante ADD COLUMN grado integer not null''')\n",
    "    conexion.execute('''ALTER TABLE estudiante ADD COLUMN grupo text not null''')\n",
    "    conexion.commit()\n",
    "\n",
    "    \n",
    "def insertarRegistro(conexion):\n",
    "    conexion.execute('''INSERT INTO estudiante (nombre, apellidos, fechaInicio, promedio, carrera, grado, grupo) VALUES('Jose', 'Rodriguez Perez','2021-06-09',8.75,'Ingenieria Industrial',1,'G')''')\n",
    "    conexion.execute('''INSERT INTO estudiante (nombre, apellidos, fechaInicio, promedio, carrera, grado, grupo) VALUES('Maria','Cruz Velasquez','2018-01-15',9.2,'Licenciatura en Enfermeria',6,'B')''')\n",
    "    conexion.execute('''INSERT INTO datosContacto (estudiante, telefono1, telefono2, correo) VALUES(1,'8331234567','5552334455','micorreo@gmail.com')''')\n",
    "    conexion.execute('''INSERT INTO datosContacto (estudiante, telefono1, telefono2, correo) VALUES(2,'0554564567','1111234567','correo@ejemplo')''')\n",
    "    conexion.commit()\n",
    "    \n",
    "\n",
    "\n",
    "def conjuntos(conexion):\n",
    "    cursor = conexion.cursor()\n",
    "    #cursor.execute(\"SELECT nombre, apellidos FROM estudiante JOIN datosContacto ON estudiante.matricula = datosContacto.estudiante\")\n",
    "    cursor.execute(\"SELECT estudiante FROM datosContacto LEFT JOIN estudiante ON datosContacto.estudiante = estudiante.matricula\")\n",
    "    filas = cursor.fetchall()\n",
    "    for fila in filas:\n",
    "        print(fila)\n",
    "\n",
    "con = conectar()\n",
    "#crearTabla(con)\n",
    "#modificarTabla(con)\n",
    "#insertarRegistro(con)\n",
    "conjuntos(con)\n",
    "con.close()"
   ]
  }
 ],
 "metadata": {
  "kernelspec": {
   "display_name": "Python 3",
   "language": "python",
   "name": "python3"
  },
  "language_info": {
   "codemirror_mode": {
    "name": "ipython",
    "version": 3
   },
   "file_extension": ".py",
   "mimetype": "text/x-python",
   "name": "python",
   "nbconvert_exporter": "python",
   "pygments_lexer": "ipython3",
   "version": "3.8.5"
  }
 },
 "nbformat": 4,
 "nbformat_minor": 5
}
