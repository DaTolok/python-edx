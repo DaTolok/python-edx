{
 "cells": [
  {
   "cell_type": "code",
   "execution_count": 16,
   "id": "sporting-metropolitan",
   "metadata": {},
   "outputs": [
    {
     "name": "stdout",
     "output_type": "stream",
     "text": [
      "Conexión establecida\n",
      "(6,)\n",
      "(5,)\n"
     ]
    }
   ],
   "source": [
    "import sqlite3\n",
    "from sqlite3 import Error\n",
    "\n",
    "def conectar():\n",
    "    try: \n",
    "        conexion = sqlite3.connect('database1.db')\n",
    "        conexion.execute('PRAGMA foreing_keys = ON')\n",
    "        print('Conexión establecida')\n",
    "        return conexion\n",
    "    except Error:\n",
    "        print(Error)\n",
    "        \n",
    "        \n",
    "def tabla(conexion):\n",
    "    conexion.execute(\"CREATE TABLE clientes (id integer PRIMARY KEY, nombre text, apellido text)\")\n",
    "    conexion.execute(\"CREATE TABLE ordenes (id integer PRIMARY KEY, cliente_id integer, nombre_producto text, cantidad integer)\")\n",
    "    conexion.execute(\"INSERT INTO clientes (id, nombre, apellido) VALUES ('123','Manuel','Ramirez')\")\n",
    "    conexion.execute(\"INSERT INTO clientes (id, nombre, apellido) VALUES ('564', 'Maria','Perez')\")\n",
    "    conexion.execute(\"INSERT INTO ordenes (cliente_id, nombre_producto, cantidad) VALUES ('123','arroz',2), ('123','frijoles',3),('123','leche',5),('123','huevos',12)\")\n",
    "    conexion.execute(\"INSERT INTO ordenes (cliente_id, nombre_producto, cantidad) VALUES ('564','harina',2),('564','huevos',3),('564','azucar',1),('564','chocolate',1)\")\n",
    "    conexion.commit()\n",
    "    \n",
    "def consultas(conexion):\n",
    "    cursor = conexion.cursor()\n",
    "    consulta5 = \"SELECT SUM(cantidad) FROM ordenes\"\n",
    "    consulta6 = \"SELECT MAX (cantidad) FROM ordenes\"\n",
    "    consulta7 = \"SELECT MIN (cantidad) FROM ordenes\"\n",
    "    consulta8 = \"SELECT AVG (cantidad) FROM ordenes\"\n",
    "    consulta9 = \"SELECT UPPER (nombre) FROM clientes\"\n",
    "    consulta10 = \"SELECT LOWER (nombre) FROM clientes\"\n",
    "    consulta11 = \"SELECT LENGTH (nombre) FROM clientes\"\n",
    "    cursor.execute(consulta11)\n",
    "    filas = cursor.fetchall()\n",
    "    \n",
    "    for fila in filas: \n",
    "        print(fila)\n",
    "        \n",
    "con = conectar()\n",
    "#tabla(con)\n",
    "consultas(con)\n",
    "#con.close()"
   ]
  }
 ],
 "metadata": {
  "kernelspec": {
   "display_name": "Python 3",
   "language": "python",
   "name": "python3"
  },
  "language_info": {
   "codemirror_mode": {
    "name": "ipython",
    "version": 3
   },
   "file_extension": ".py",
   "mimetype": "text/x-python",
   "name": "python",
   "nbconvert_exporter": "python",
   "pygments_lexer": "ipython3",
   "version": "3.8.5"
  }
 },
 "nbformat": 4,
 "nbformat_minor": 5
}
