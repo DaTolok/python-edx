{
 "cells": [
  {
   "cell_type": "code",
   "execution_count": 2,
   "id": "sporting-metropolitan",
   "metadata": {},
   "outputs": [
    {
     "name": "stdout",
     "output_type": "stream",
     "text": [
      "(10, 'Andrea', 25, 'profesional', 12000)\n",
      "(14, 'Luis', 23, 'profesional', 12000)\n",
      "(11, 'Pablo', 31, 'maestria', 18000)\n",
      "(13, 'Fernanda', 27, 'maestria', 18000)\n",
      "(15, 'Karen', 26, 'maestria', 18000)\n",
      "(12, 'Daniel', 30, 'doctorado', 21000)\n"
     ]
    }
   ],
   "source": [
    "import sqlite3\n",
    "from sqlite3 import Error\n",
    "\n",
    "def conectar():\n",
    "    try: \n",
    "        conexion = sqlite3.connect('mydatabase.db')\n",
    "        conexion.execute('PRAGMA foreing_keys = ON')\n",
    "        print('Conexión establecida')\n",
    "        return conexion\n",
    "    except Error:\n",
    "        print(Error)\n",
    "        \n",
    "def crearTabla(conexion):\n",
    "    conexion.execute(\"CREATE TABLE empresa (id integer PRIMARY KEY, NOMBRE text not null, edad integer not null, estudios text not null, salario integer not null)\")\n",
    "    conexion.commit()\n",
    "    \n",
    "def insertarRegistros(conexion):\n",
    "    conexion.execute(\"INSERT INTO empresa (id, nombre, edad, estudios, salario) VALUES (10,'Andrea',25, 'profesional', 12000)\")\n",
    "    conexion.execute(\"INSERT INTO empresa (id, nombre, edad, estudios, salario) VALUES (11,'Pablo',31, 'maestria', 18000)\")\n",
    "    conexion.execute(\"INSERT INTO empresa (id, nombre, edad, estudios, salario) VALUES (12,'Daniel',30, 'doctorado', 21000)\")\n",
    "    conexion.execute(\"INSERT INTO empresa (id, nombre, edad, estudios, salario) VALUES (13,'Fernanda',27, 'maestria', 18000)\")\n",
    "    conexion.execute(\"INSERT INTO empresa (id, nombre, edad, estudios, salario) VALUES (14,'Luis',23, 'profesional', 12000)\")\n",
    "    conexion.execute(\"INSERT INTO empresa (id, nombre, edad, estudios, salario) VALUES (15,'Karen',26, 'maestria', 18000)\")\n",
    "    conexion.commit()\n",
    "    \n",
    "def conjuntos(conexion):\n",
    "    cursor = conexion.cursor()\n",
    "    cursor.execute(\"SELECT * FROM empresa ORDER BY salario ASC\")\n",
    "    filas = cursor.fetchall()\n",
    "    \n",
    "    for fila in filas: \n",
    "        print(fila)\n",
    "        \n",
    "con = conectar()\n",
    "crearTabla(con)\n",
    "insertarRegistros(con)\n",
    "conjuntos(con)"
   ]
  }
 ],
 "metadata": {
  "kernelspec": {
   "display_name": "Python 3",
   "language": "python",
   "name": "python3"
  },
  "language_info": {
   "codemirror_mode": {
    "name": "ipython",
    "version": 3
   },
   "file_extension": ".py",
   "mimetype": "text/x-python",
   "name": "python",
   "nbconvert_exporter": "python",
   "pygments_lexer": "ipython3",
   "version": "3.8.5"
  }
 },
 "nbformat": 4,
 "nbformat_minor": 5
}
