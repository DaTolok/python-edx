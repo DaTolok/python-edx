{
 "cells": [
  {
   "cell_type": "code",
   "execution_count": 5,
   "id": "sporting-metropolitan",
   "metadata": {},
   "outputs": [
    {
     "name": "stdout",
     "output_type": "stream",
     "text": [
      "Conexión establecida\n"
     ]
    }
   ],
   "source": [
    "import sqlite3\n",
    "from sqlite3 import Error\n",
    "\n",
    "def conectar():\n",
    "    try: \n",
    "        conexion = sqlite3.connect('mydatabase.db')\n",
    "        conexion.execute('PRAGMA foreing_keys = ON')\n",
    "        print('Conexión establecida')\n",
    "        return conexion\n",
    "    except Error:\n",
    "        print(Error)\n",
    "        \n",
    "def crearTabla(conexion):\n",
    "    conexion.execute('CREATE TABLE estudiante( matricula integer PRIMARY KEY, nombre text not null, apellidos text not null, fechaInicio text not null, promedio real)')\n",
    "    conexion.execute('CREATE TABLE carrera (id integer PRIMARY KEY, nombre text not null, estudiante int)')\n",
    "    conexion.execute('CREATE TABLE datosContacto(id integer PRIMARY KEY, estudiante integer, telefono1 text, telefono2 text, correo text, CONSTRAINT fk_contactoEstudiante FOREIGN KEY(estudiante) REFERENCES estudiante (matricula))')\n",
    "    \n",
    "    \n",
    "def modificarTabla(conexion):\n",
    "    conexion.execute('''ALTER TABLE estudiante ADD COLUMN carrera text not null''')\n",
    "    conexion.execute('''ALTER TABLE estudiante ADD COLUMN grado integer not null''')\n",
    "    conexion.execute('''ALTER TABLE estudiante ADD COLUMN grupo text not null''')\n",
    "    conexion.commit()\n",
    "    \n",
    "def eliminarTabla(conexion):\n",
    "    conexion.execute('''DROP TABLE IF EXISTS carrera''')\n",
    "    conexion.commit()\n",
    "    \n",
    "    \n",
    "def insertarRegistro(conexion):\n",
    "    conexion.execute('''INSERT INTO estudiante (nombre, apellidos, fechaInicio, promedio, carrera, grado, grupo) VALUES('Jose', 'Rodriguez Perez','2021-06-09',8.75,'Ingenieria Industrial',1,'G')''')\n",
    "    conexion.execute('''INSERT INTO estudiante (nombre, apellidos, fechaInicio, promedio, carrera, grado, grupo) VALUES('Maria','Cruz Velasquez','2018-01-15',9.2,'Licenciatura en Enfermeria',6,'B')''')\n",
    "    conexion.execute('''INSERT INTO datosContacto (estudiante, telefono1, telefono2, correo) VALUES(1,'8331234567','5552334455','micorreo@gmail.com')''')\n",
    "    conexion.execute('''INSERT INTO datosContacto (estudiante, telefono1, telefono2, correo) VALUES(2,'0554564567','1111234567','correo@ejemplo')''')\n",
    "    conexion.commit()\n",
    "    \n",
    "def modificarRegistro(conexion, matricula, nombre, telefono):\n",
    "    conexion.execute(\"UPDATE estudiante SET nombre='\"+nombre+\"' WHERE matricula = \"+str(matricula))\n",
    "    conexion.execute(\"UPDATE datosContacto SET telefono1 = '\"+telefono+\"' WHERE estudiante =\"+str(matricula))\n",
    "    conexion.commit()\n",
    "\n",
    "    \n",
    "def eliminarRegistro(conexion):\n",
    "    conexion.execute('DELETE FROM datosContacto WHERE estudiante = 1')\n",
    "    conexion.execute('DELETE FROM datosContacto WHERE estudiante = 2')\n",
    "    conexion.execute('DELETE FROM estudiante WHERE matricula = 2')\n",
    "    conexion.commit()\n",
    "    \n",
    "\n",
    "con = conectar()\n",
    "crearTabla(con)\n",
    "modificarTabla(con)\n",
    "eliminarTabla(con)\n",
    "insertarRegistro(con)\n",
    "modificarRegistro(con, 1, 'Juan','5551234567')\n",
    "eliminarRegistro(con)\n",
    "con.close()"
   ]
  }
 ],
 "metadata": {
  "kernelspec": {
   "display_name": "Python 3",
   "language": "python",
   "name": "python3"
  },
  "language_info": {
   "codemirror_mode": {
    "name": "ipython",
    "version": 3
   },
   "file_extension": ".py",
   "mimetype": "text/x-python",
   "name": "python",
   "nbconvert_exporter": "python",
   "pygments_lexer": "ipython3",
   "version": "3.8.5"
  }
 },
 "nbformat": 4,
 "nbformat_minor": 5
}
